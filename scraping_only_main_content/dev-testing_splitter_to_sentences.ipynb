{
 "cells": [
  {
   "cell_type": "code",
   "execution_count": 1,
   "metadata": {},
   "outputs": [
    {
     "name": "stdout",
     "output_type": "stream",
     "text": [
      "['This is a paragraph.', 'It contains several sentences.', '\"But why,\" you ask?']\n",
      "['This is a paragraph.', 'It contains several sentences.', '\"But why,\" you ask?']\n"
     ]
    }
   ],
   "source": [
    "from sentence_splitter import SentenceSplitter, split_text_into_sentences\n",
    "\n",
    "#\n",
    "# Object interface\n",
    "#\n",
    "splitter = SentenceSplitter(language='en')\n",
    "print(splitter.split(text='This is a paragraph. It contains several sentences. \"But why,\" you ask?'))\n",
    "# ['This is a paragraph.', 'It contains several sentences.', '\"But why,\" you ask?']\n",
    "\n",
    "#\n",
    "# Functional interface\n",
    "#\n",
    "print(split_text_into_sentences(\n",
    "    text='This is a paragraph. It contains several sentences. \"But why,\" you ask?',\n",
    "    language='en'\n",
    "))\n",
    "# ['This is a paragraph.', 'It contains several sentences.', '\"But why,\" you ask?']"
   ]
  },
  {
   "cell_type": "code",
   "execution_count": 3,
   "metadata": {},
   "outputs": [
    {
     "data": {
      "text/plain": [
       "['Me llamo juan, y estoy entumecido.',\n",
       " 'Tu quetal estas?',\n",
       " 'Puedes escribirme a juan.armaguedon@gmail.com.',\n",
       " 'Bye Bye.',\n",
       " 'Esto es lo que mas me gusta: patatas fritas, pollo y helado.',\n",
       " 'Bolvo.']"
      ]
     },
     "execution_count": 3,
     "metadata": {},
     "output_type": "execute_result"
    }
   ],
   "source": [
    "text = '''\n",
    "Me llamo juan, y estoy entumecido. Tu quetal estas? Puedes escribirme a juan.armaguedon@gmail.com. Bye Bye.\n",
    "Esto es lo que mas me gusta: patatas fritas, pollo y helado. Bolvo.\n",
    "'''\n",
    "split_text_into_sentences(text = text, language = 'es')"
   ]
  },
  {
   "cell_type": "code",
   "execution_count": null,
   "metadata": {},
   "outputs": [],
   "source": []
  }
 ],
 "metadata": {
  "kernelspec": {
   "display_name": "crawling",
   "language": "python",
   "name": "crawling"
  },
  "language_info": {
   "codemirror_mode": {
    "name": "ipython",
    "version": 3
   },
   "file_extension": ".py",
   "mimetype": "text/x-python",
   "name": "python",
   "nbconvert_exporter": "python",
   "pygments_lexer": "ipython3",
   "version": "3.7.0"
  }
 },
 "nbformat": 4,
 "nbformat_minor": 2
}
