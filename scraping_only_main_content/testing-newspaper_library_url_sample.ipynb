{
 "cells": [
  {
   "cell_type": "markdown",
   "metadata": {},
   "source": [
    "# Testing a new main content collector tool: 'newspaper'\n",
    "\n",
    "\n",
    "### Beneficios:\n",
    "\n",
    "- se puede recolectar h1, h2, etc u otro elemento html del contenido principal que buscamos mediante **article.top_node.findall()**.\n",
    "- la meta informacion esta bien parseada. solo hay que validar el '' o lista vacia.\n",
    "- el detector automatico de idioma es muy bueno.\n",
    "\n",
    "\n",
    "### Problemas detectados:\n",
    "\n",
    "- keywords no valen para nada.\n",
    "- summary muchas veces no vale. \n",
    "- al recolectar h1, h2, etc, aveces salen None values.\n",
    "- el timeout del lector es bajo. alguna vez salta error.\n",
    "- cuando hay que aprobar cookies, no parsea.\n",
    "\n",
    "\n",
    "### urls for testing:\n",
    "- https://docs.google.com/spreadsheets/d/1jJt7n217BL7e9wLlmQHEx6IQij8eXK-N8jlEnC4CxQE/edit#gid=0\n",
    "- https://docs.google.com/spreadsheets/d/16j_WDGWBZaXiUc4jIChdJMEzAbI4ymEWEYNSZ41mNqY/edit#gid=0\n",
    "\n",
    "\n",
    "## Conclusiones:\n",
    "\n",
    "### pros:\n",
    "\n",
    "- nos va permitir eliminar ruido lateral pues es muy bueno seleccionando el contenido principal.\n",
    "- nos va a dar la meta muy bien formateada (descripcion y keywords)\n",
    "- nos permite recolectar headers solo del contenido principal\n",
    "- nos permite deterctar idioma con alta precision.\n",
    "\n",
    "### contras:\n",
    "\n",
    "- el timeout del lector es bajo. alguna vez salta error --> creo que con esto podriamos vivir.\n",
    "- cuando hay que aprobar cookies, no parsea --> no se si podemos vivir con esto."
   ]
  },
  {
   "cell_type": "code",
   "execution_count": 1,
   "metadata": {},
   "outputs": [],
   "source": [
    "url0 = 'https://www.telemundo52.com/entretenimiento/entretenimiento-destacados/telemundo-estrena-edicion-especial-de-la-reina-del-sur-2/2070061/'\n",
    "url1 = 'https://www.independent.co.uk/travel/news-and-advice/the-50-best-travel-websites-8646338.html'\n",
    "url2 = 'https://elpais.com/deportes/2019/09/09/actualidad/1568061861_205420.html'\n",
    "url3 = 'https://cnnespanol.cnn.com/2019/09/09/british-airways-cancela-casi-el-100-de-sus-vuelos-por-huelga-de-pilotos/'\n",
    "url4 = 'https://blog.cooltra.com/5-modelos-motos-mas-utilizadas-reparto-a-domicilio/'\n",
    "url5 = 'https://www.eluniversal.com.mx/espectaculos/television/televisa-le-apuesta-quien-es-la-mascara-su-nuevo-reality-show'\n",
    "url6 = 'https://mexico.as.com/mexico/2019/09/09/tikitakas/1567989563_481546.html'\n",
    "# este mal\n",
    "url7 = 'https://www.instyle.es/moda/tendencias/moda-otono-tendencias-nuevas_44157/3#slide-2'\n",
    "url8 = 'https://www.lacasadelelectrodomestico.com/Seccion~x~Lavavajillas~IDSeccion~81.html'\n",
    "# este mal\n",
    "url9 = 'https://www.aristocrazy.com/es/joyeria/?gclid=EAIaIQobChMIv-f_gf3I5AIVEMDeCh1c9gptEAAYAyAAEgLysvD_BwE'\n",
    "url10 = 'https://www.huffingtonpost.ca/2013/01/09/best-beauty-tips_n_2444134.html?guccounter=1'\n",
    "url11 = 'https://www.elsoldemexico.com.mx/mundo/reservas-ambientales-e-indigenas-las-mas-afectadas-por-incendio-en-amazonas-4152514.html'\n",
    "url12 = 'https://www.sinembargo.mx/17-05-2019/3580611'\n",
    "url13 = 'https://eu.usatoday.com/story/news/nation/2019/09/05/hurricane-dorian-enters-hurricane-florence-damage-remains-nc/2228107001/'\n",
    "url14 = 'https://www3.nhk.or.jp/nhkworld/ja/'"
   ]
  },
  {
   "cell_type": "code",
   "execution_count": 2,
   "metadata": {},
   "outputs": [
    {
     "name": "stdout",
     "output_type": "stream",
     "text": [
      "CPU times: user 513 ms, sys: 35 ms, total: 548 ms\n",
      "Wall time: 3.52 s\n"
     ]
    }
   ],
   "source": [
    "%%time\n",
    "from newspaper import Article\n",
    "url = url0\n",
    "article = Article(url)\n",
    "#article = Article(url, language = 'es')\n",
    "article.download()\n",
    "article.parse()"
   ]
  },
  {
   "cell_type": "code",
   "execution_count": 3,
   "metadata": {},
   "outputs": [
    {
     "data": {
      "text/plain": [
       "'Telemundo anunció el regreso de “La Reina del Sur 2\", con una edición especial que incluirá imágenes y escenas nunca antes vistas.\\n\\nLa actriz mexicana Kate del Castillo protagoniza esta serie que regresará a la pantalla el martes 21 de abril a las 10:00 p.m. (9:00 p.m. centro).\\n\\n\"Los televidentes que se perdieron el drama lleno de acción la primera vez, tendrán la oportunidad de vivir la emoción mientras \\'Teresa Mendoza\\' reclama su poder y lucha por el amor más grande de su vida\", expresó la cadena mediante un comunicado de prensa.\\n\\nFilmado en ocho países, el regreso de \"La Reina del Sur\" retoma la historia de la poderosa narcotraficante \"Teresa Mendoza\" ocho años después de que desapareciera en manos del programa federal de protección de testigos de Estados Unidos tras hundir al candidato presidencial mexicano \"Epifanio Vargas\".\\n\\nAhora lleva una vida en total anonimato en Italia, como \"María Dantes\", mientras cría a su hija \"Sofía\" en la villa toscana Massa Marittima. Sin embargo, su vida dará un giro inesperado y tendrá que hacer todo lo posible por recuperar su trono como \"La Reina del Sur\".\\n\\nDel Castillo está al frente de un renombrado elenco internacional que incluye a Raoul Bova, Humberto Zurita, Paola Núñez, Antonio Gil, Patricia Reyes Spíndola, Mark Tacher, Kika Edgar, Flavio Medina, Eduardo Santamarina y Eric Roberts, así como miembros del elenco original.'"
      ]
     },
     "execution_count": 3,
     "metadata": {},
     "output_type": "execute_result"
    }
   ],
   "source": [
    "article.text"
   ]
  },
  {
   "cell_type": "code",
   "execution_count": 4,
   "metadata": {},
   "outputs": [
    {
     "name": "stdout",
     "output_type": "stream",
     "text": [
      "['vida', 'telemundo', 'sur', 'estrena', 'edición', 'y', 'como', 'especial', 'que', 'la', 'del', 'reina', 'en', 'el', 'su']\n",
      "('es', 'Telemundo estrena edición especial de “La Reina del Sur 2”', [], datetime.datetime(2020, 4, 8, 16, 51, 52, tzinfo=tzutc()))\n"
     ]
    },
    {
     "data": {
      "text/plain": [
       "'Telemundo anunció el regreso de “La Reina del Sur 2\", con una edición especial que incluirá imágenes y escenas nunca antes vistas.\\nLa actriz mexicana Kate del Castillo protagoniza esta serie que regresará a la pantalla el martes 21 de abril a las 10:00 p.m. (9:00 p.m. centro).\\nFilmado en ocho países, el regreso de \"La Reina del Sur\" retoma la historia de la poderosa narcotraficante \"Teresa Mendoza\" ocho años después de que desapareciera en manos del programa federal de protección de testigos de Estados Unidos tras hundir al candidato presidencial mexicano \"Epifanio Vargas\".\\nAhora lleva una vida en total anonimato en Italia, como \"María Dantes\", mientras cría a su hija \"Sofía\" en la villa toscana Massa Marittima.\\nSin embargo, su vida dará un giro inesperado y tendrá que hacer todo lo posible por recuperar su trono como \"La Reina del Sur\".'"
      ]
     },
     "execution_count": 4,
     "metadata": {},
     "output_type": "execute_result"
    }
   ],
   "source": [
    "article.nlp()\n",
    "print(article.keywords)\n",
    "print((article.meta_lang, article.title, article.authors, article.publish_date))\n",
    "article.summary"
   ]
  },
  {
   "cell_type": "code",
   "execution_count": 5,
   "metadata": {},
   "outputs": [
    {
     "data": {
      "text/plain": [
       "('La actriz mexicana Kate del Castillo protagoniza esta serie que regresará a la pantalla el martes 21 de abril con escenas nunca antes vistas.',\n",
       " ['mexicana',\n",
       "  'La Reina',\n",
       "  'Estados Unidos',\n",
       "  'países',\n",
       "  'casa',\n",
       "  'villa',\n",
       "  'Massa Marittima',\n",
       "  'toscana',\n",
       "  'Italia',\n",
       "  'Telemundo',\n",
       "  'Sur&',\n",
       "  'cadena',\n",
       "  'Sur&',\n",
       "  'regreso',\n",
       "  'edición',\n",
       "  'regreso',\n",
       "  'boda',\n",
       "  'imágenes',\n",
       "  'escenas',\n",
       "  'serie',\n",
       "  'pantalla',\n",
       "  'centro',\n",
       "  'emoción',\n",
       "  'oportunidad',\n",
       "  'drama',\n",
       "  'vez',\n",
       "  'acción',\n",
       "  'protección',\n",
       "  'programa',\n",
       "  'manos',\n",
       "  'narcotraficante',\n",
       "  'historia',\n",
       "  'vida',\n",
       "  'vida&',\n",
       "  'fotos',\n",
       "  'Farándula',\n",
       "  'posible',\n",
       "  'amor',\n",
       "  'poder',\n",
       "  'lucha',\n",
       "  'anonimato',\n",
       "  'vida',\n",
       "  'trono',\n",
       "  'giro',\n",
       "  'embargo',\n",
       "  'frente',\n",
       "  'Kate del Castillo',\n",
       "  'televisión'])"
      ]
     },
     "execution_count": 5,
     "metadata": {},
     "output_type": "execute_result"
    }
   ],
   "source": [
    "article.meta_description, article.meta_keywords"
   ]
  },
  {
   "cell_type": "code",
   "execution_count": 6,
   "metadata": {},
   "outputs": [],
   "source": [
    "for ih in ['h1','h2','h3','h4']:\n",
    "    loh = article.top_node.findall(ih)\n",
    "    if len(loh)>0:\n",
    "        print('--> %s'%ih)\n",
    "        for ii,ioh in enumerate(loh):\n",
    "            print(ii,ioh.text)"
   ]
  },
  {
   "cell_type": "code",
   "execution_count": null,
   "metadata": {},
   "outputs": [],
   "source": [
    "text_cleaned = article.text"
   ]
  },
  {
   "cell_type": "code",
   "execution_count": 10,
   "metadata": {},
   "outputs": [
    {
     "name": "stdout",
     "output_type": "stream",
     "text": [
      "--> Telemundo anunció el regreso de “La Reina del Sur 2\", con una edición especial que incluirá imágenes y escenas nunca antes vistas.La actriz mexicana Kate del Castillo protagoniza esta serie que regresará a la pantalla el martes 21 de abril a las 10:00 p.m.\n",
      "--> (9:00 p.m. centro).\"Los televidentes que se perdieron el drama lleno de acción la primera vez, tendrán la oportunidad de vivir la emoción mientras 'Teresa Mendoza' reclama su poder y lucha por el amor más grande de su vida\", expresó la cadena mediante un comunicado de prensa.Filmado en ocho países, el regreso de \"La Reina del Sur\" retoma la historia de la poderosa narcotraficante \"Teresa Mendoza\" ocho años después de que desapareciera en manos del programa federal de protección de testigos de Estados Unidos tras hundir al candidato presidencial mexicano \"Epifanio Vargas\".Ahora lleva una vida en total anonimato en Italia, como \"María Dantes\", mientras cría a su hija \"Sofía\" en la villa toscana Massa Marittima.\n",
      "--> Sin embargo, su vida dará un giro inesperado y tendrá que hacer todo lo posible por recuperar su trono como \"La Reina del Sur\".Del Castillo está al frente de un renombrado elenco internacional que incluye a Raoul Bova, Humberto Zurita, Paola Núñez, Antonio Gil, Patricia Reyes Spíndola, Mark Tacher, Kika Edgar, Flavio Medina, Eduardo Santamarina y Eric Roberts, así como miembros del elenco original.\n"
     ]
    }
   ],
   "source": [
    "from sentence_splitter import split_text_into_sentences\n",
    "for isentence in split_text_into_sentences(text = text_cleaned, language = article.meta_lang):\n",
    "    print('-->',isentence)"
   ]
  },
  {
   "cell_type": "code",
   "execution_count": null,
   "metadata": {},
   "outputs": [],
   "source": []
  }
 ],
 "metadata": {
  "kernelspec": {
   "display_name": "crawling",
   "language": "python",
   "name": "crawling"
  },
  "language_info": {
   "codemirror_mode": {
    "name": "ipython",
    "version": 3
   },
   "file_extension": ".py",
   "mimetype": "text/x-python",
   "name": "python",
   "nbconvert_exporter": "python",
   "pygments_lexer": "ipython3",
   "version": "3.7.0"
  }
 },
 "nbformat": 4,
 "nbformat_minor": 2
}
