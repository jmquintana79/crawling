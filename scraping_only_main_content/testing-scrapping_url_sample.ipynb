{
 "cells": [
  {
   "cell_type": "markdown",
   "metadata": {},
   "source": [
    "# Testing a new main content collector tool: 'newspaper'\n",
    "\n",
    "\n",
    "### Beneficios:\n",
    "\n",
    "- se puede recolectar h1, h2, etc u otro elemento html del contenido principal que buscamos mediante **article.top_node.findall()**.\n",
    "- la meta informacion esta bien parseada. solo hay que validar el '' o lista vacia.\n",
    "- el detector automatico de idioma es muy bueno.\n",
    "\n",
    "\n",
    "### Problemas detectados:\n",
    "\n",
    "- keywords no valen para nada.\n",
    "- summary muchas veces no vale. \n",
    "- al recolectar h1, h2, etc, aveces salen None values.\n",
    "- el timeout del lector es bajo. alguna vez salta error.\n",
    "- cuando hay que aprobar cookies, no parsea.\n",
    "\n",
    "\n",
    "### urls for testing:\n",
    "- https://docs.google.com/spreadsheets/d/1jJt7n217BL7e9wLlmQHEx6IQij8eXK-N8jlEnC4CxQE/edit#gid=0\n",
    "- https://docs.google.com/spreadsheets/d/16j_WDGWBZaXiUc4jIChdJMEzAbI4ymEWEYNSZ41mNqY/edit#gid=0\n",
    "\n",
    "\n",
    "## Conclusiones:\n",
    "\n",
    "### pros:\n",
    "\n",
    "- nos va permitir eliminar ruido lateral pues es muy bueno seleccionando el contenido principal.\n",
    "- nos va a dar la meta muy bien formateada (descripcion y keywords)\n",
    "- nos permite recolectar headers solo del contenido principal\n",
    "- nos permite deterctar idioma con alta precision.\n",
    "\n",
    "### contras:\n",
    "\n",
    "- el timeout del lector es bajo. alguna vez salta error --> creo que con esto podriamos vivir.\n",
    "- cuando hay que aprobar cookies, no parsea --> no se si podemos vivir con esto."
   ]
  },
  {
   "cell_type": "code",
   "execution_count": 1,
   "metadata": {},
   "outputs": [],
   "source": [
    "url0 = 'https://www.telemundo52.com/entretenimiento/entretenimiento-destacados/telemundo-estrena-edicion-especial-de-la-reina-del-sur-2/2070061/'\n",
    "url1 = 'https://www.independent.co.uk/travel/news-and-advice/the-50-best-travel-websites-8646338.html'\n",
    "url2 = 'https://elpais.com/deportes/2019/09/09/actualidad/1568061861_205420.html'\n",
    "url3 = 'https://cnnespanol.cnn.com/2019/09/09/british-airways-cancela-casi-el-100-de-sus-vuelos-por-huelga-de-pilotos/'\n",
    "url4 = 'https://blog.cooltra.com/5-modelos-motos-mas-utilizadas-reparto-a-domicilio/'\n",
    "url5 = 'https://www.eluniversal.com.mx/espectaculos/television/televisa-le-apuesta-quien-es-la-mascara-su-nuevo-reality-show'\n",
    "url6 = 'https://mexico.as.com/mexico/2019/09/09/tikitakas/1567989563_481546.html'\n",
    "# este mal\n",
    "url7 = 'https://www.instyle.es/moda/tendencias/moda-otono-tendencias-nuevas_44157/3#slide-2'\n",
    "url8 = 'https://www.lacasadelelectrodomestico.com/Seccion~x~Lavavajillas~IDSeccion~81.html'\n",
    "# este mal\n",
    "url9 = 'https://www.aristocrazy.com/es/joyeria/?gclid=EAIaIQobChMIv-f_gf3I5AIVEMDeCh1c9gptEAAYAyAAEgLysvD_BwE'\n",
    "url10 = 'https://www.huffingtonpost.ca/2013/01/09/best-beauty-tips_n_2444134.html?guccounter=1'\n",
    "url11 = 'https://www.elsoldemexico.com.mx/mundo/reservas-ambientales-e-indigenas-las-mas-afectadas-por-incendio-en-amazonas-4152514.html'\n",
    "url12 = 'https://www.sinembargo.mx/17-05-2019/3580611'\n",
    "url13 = 'https://eu.usatoday.com/story/news/nation/2019/09/05/hurricane-dorian-enters-hurricane-florence-damage-remains-nc/2228107001/'\n",
    "url14 = 'https://www3.nhk.or.jp/nhkworld/ja/'"
   ]
  },
  {
   "cell_type": "code",
   "execution_count": 522,
   "metadata": {},
   "outputs": [
    {
     "name": "stdout",
     "output_type": "stream",
     "text": [
      "CPU times: user 198 ms, sys: 0 ns, total: 198 ms\n",
      "Wall time: 2.5 s\n"
     ]
    }
   ],
   "source": [
    "%%time\n",
    "from newspaper import Article\n",
    "url = url0\n",
    "article = Article(url)\n",
    "#article = Article(url, language = 'es')\n",
    "article.download()\n",
    "article.parse()"
   ]
  },
  {
   "cell_type": "code",
   "execution_count": 523,
   "metadata": {},
   "outputs": [
    {
     "name": "stdout",
     "output_type": "stream",
     "text": [
      "Telemundo estrena edición especial de “La Reina del Sur 2”\n",
      "Telemundo anunció el regreso de “La Reina del Sur 2\", con una edición especial que incluirá imágenes y escenas nunca antes vistas.\n",
      "\n",
      "La actriz mexicana Kate del Castillo protagoniza esta serie que regresará a la pantalla el martes 21 de abril a las 10:00 p.m. (9:00 p.m. centro).\n",
      "\n",
      "\"Los televidentes que se perdieron el drama lleno de acción la primera vez, tendrán la oportunidad de vivir la emoción mientras 'Teresa Mendoza' reclama su poder y lucha por el amor más grande de su vida\", expresó la cadena mediante un comunicado de prensa.\n",
      "\n",
      "Filmado en ocho países, el regreso de \"La Reina del Sur\" retoma la historia de la poderosa narcotraficante \"Teresa Mendoza\" ocho años después de que desapareciera en manos del programa federal de protección de testigos de Estados Unidos tras hundir al candidato presidencial mexicano \"Epifanio Vargas\".\n",
      "\n",
      "Ahora lleva una vida en total anonimato en Italia, como \"María Dantes\", mientras cría a su hija \"Sofía\" en la villa toscana Massa Marittima. Sin embargo, su vida dará un giro inesperado y tendrá que hacer todo lo posible por recuperar su trono como \"La Reina del Sur\".\n",
      "\n",
      "Del Castillo está al frente de un renombrado elenco internacional que incluye a Raoul Bova, Humberto Zurita, Paola Núñez, Antonio Gil, Patricia Reyes Spíndola, Mark Tacher, Kika Edgar, Flavio Medina, Eduardo Santamarina y Eric Roberts, así como miembros del elenco original.\n"
     ]
    }
   ],
   "source": [
    "print(article.title)\n",
    "print(article.text)"
   ]
  },
  {
   "cell_type": "code",
   "execution_count": 524,
   "metadata": {},
   "outputs": [
    {
     "name": "stdout",
     "output_type": "stream",
     "text": [
      "['el', 'que', 'en', 'especial', 'como', 'telemundo', 'del', 'y', 'edición', 'vida', 'su', 'la', 'sur', 'reina', 'estrena']\n",
      "('es', 'Telemundo estrena edición especial de “La Reina del Sur 2”', [], datetime.datetime(2020, 4, 8, 16, 51, 52, tzinfo=tzutc()))\n"
     ]
    },
    {
     "data": {
      "text/plain": [
       "'Telemundo anunció el regreso de “La Reina del Sur 2\", con una edición especial que incluirá imágenes y escenas nunca antes vistas.\\nLa actriz mexicana Kate del Castillo protagoniza esta serie que regresará a la pantalla el martes 21 de abril a las 10:00 p.m. (9:00 p.m. centro).\\nFilmado en ocho países, el regreso de \"La Reina del Sur\" retoma la historia de la poderosa narcotraficante \"Teresa Mendoza\" ocho años después de que desapareciera en manos del programa federal de protección de testigos de Estados Unidos tras hundir al candidato presidencial mexicano \"Epifanio Vargas\".\\nAhora lleva una vida en total anonimato en Italia, como \"María Dantes\", mientras cría a su hija \"Sofía\" en la villa toscana Massa Marittima.\\nSin embargo, su vida dará un giro inesperado y tendrá que hacer todo lo posible por recuperar su trono como \"La Reina del Sur\".'"
      ]
     },
     "execution_count": 524,
     "metadata": {},
     "output_type": "execute_result"
    }
   ],
   "source": [
    "article.nlp()\n",
    "print(article.keywords)\n",
    "print((article.meta_lang, article.title, article.authors, article.publish_date))\n",
    "article.summary"
   ]
  },
  {
   "cell_type": "code",
   "execution_count": 525,
   "metadata": {},
   "outputs": [
    {
     "data": {
      "text/plain": [
       "('La actriz mexicana Kate del Castillo protagoniza esta serie que regresará a la pantalla el martes 21 de abril con escenas nunca antes vistas.',\n",
       " ['mexicana',\n",
       "  'La Reina',\n",
       "  'Estados Unidos',\n",
       "  'países',\n",
       "  'casa',\n",
       "  'villa',\n",
       "  'Massa Marittima',\n",
       "  'toscana',\n",
       "  'Italia',\n",
       "  'Telemundo',\n",
       "  'Sur&',\n",
       "  'cadena',\n",
       "  'Sur&',\n",
       "  'regreso',\n",
       "  'edición',\n",
       "  'regreso',\n",
       "  'boda',\n",
       "  'imágenes',\n",
       "  'escenas',\n",
       "  'serie',\n",
       "  'pantalla',\n",
       "  'centro',\n",
       "  'emoción',\n",
       "  'oportunidad',\n",
       "  'drama',\n",
       "  'vez',\n",
       "  'acción',\n",
       "  'protección',\n",
       "  'programa',\n",
       "  'manos',\n",
       "  'narcotraficante',\n",
       "  'historia',\n",
       "  'vida',\n",
       "  'vida&',\n",
       "  'fotos',\n",
       "  'Farándula',\n",
       "  'posible',\n",
       "  'amor',\n",
       "  'poder',\n",
       "  'lucha',\n",
       "  'anonimato',\n",
       "  'vida',\n",
       "  'trono',\n",
       "  'giro',\n",
       "  'embargo',\n",
       "  'frente',\n",
       "  'Kate del Castillo',\n",
       "  'televisión'])"
      ]
     },
     "execution_count": 525,
     "metadata": {},
     "output_type": "execute_result"
    }
   ],
   "source": [
    "article.meta_description, article.meta_keywords"
   ]
  },
  {
   "cell_type": "code",
   "execution_count": 526,
   "metadata": {},
   "outputs": [],
   "source": [
    "for ih in ['h1','h2','h3','h4']:\n",
    "    loh = article.top_node.findall(ih)\n",
    "    if len(loh)>0:\n",
    "        print('--> %s'%ih)\n",
    "        for ii,ioh in enumerate(loh):\n",
    "            print(ii,ioh.text)"
   ]
  },
  {
   "cell_type": "markdown",
   "metadata": {},
   "source": [
    "## Cleaning using NLTK library (and others)"
   ]
  },
  {
   "cell_type": "code",
   "execution_count": 527,
   "metadata": {},
   "outputs": [],
   "source": [
    "if article.meta_lang == '': article.meta_lang = 'es'"
   ]
  },
  {
   "cell_type": "code",
   "execution_count": 528,
   "metadata": {},
   "outputs": [],
   "source": [
    "dlang = {'es':'spanish', 'en':'english'}"
   ]
  },
  {
   "cell_type": "markdown",
   "metadata": {},
   "source": [
    "### add extra information"
   ]
  },
  {
   "cell_type": "code",
   "execution_count": 529,
   "metadata": {},
   "outputs": [],
   "source": [
    "merge_information = lambda article: '. '.join([article.title, article.meta_description, ' '.join(article.meta_keywords), article.text]) \n",
    "text = merge_information(article)\n",
    "lang = article.meta_lang\n",
    "language = dlang[lang]"
   ]
  },
  {
   "cell_type": "markdown",
   "metadata": {},
   "source": [
    "### text cleaning"
   ]
  },
  {
   "cell_type": "code",
   "execution_count": 530,
   "metadata": {},
   "outputs": [],
   "source": [
    "import re\n",
    "remove_spaces = lambda text: re.sub(r\"\\s+\", \" \", text)"
   ]
  },
  {
   "cell_type": "code",
   "execution_count": 531,
   "metadata": {},
   "outputs": [],
   "source": [
    "import string\n",
    "punctuation = string.punctuation+'“'+'¡'+'¿'"
   ]
  },
  {
   "cell_type": "code",
   "execution_count": 532,
   "metadata": {},
   "outputs": [],
   "source": [
    "import nltk.corpus\n",
    "stopwords = nltk.corpus.stopwords.words(dlang[article.meta_lang])\n",
    "stopwords.extend(punctuation)\n",
    "stopwords.append('')"
   ]
  },
  {
   "cell_type": "code",
   "execution_count": 533,
   "metadata": {},
   "outputs": [],
   "source": [
    "from nltk import word_tokenize\n",
    "from nltk.stem.snowball import SnowballStemmer\n",
    "stemmer = SnowballStemmer(dlang[article.meta_lang])"
   ]
  },
  {
   "cell_type": "code",
   "execution_count": 534,
   "metadata": {},
   "outputs": [],
   "source": [
    "import unicodedata\n",
    "def remove_accents(s):\n",
    "    return ''.join((c for c in unicodedata.normalize('NFD', s) if unicodedata.category(c) != 'Mn'))"
   ]
  },
  {
   "cell_type": "code",
   "execution_count": 535,
   "metadata": {},
   "outputs": [],
   "source": [
    "is_stopwords = lambda token: token.lower().strip(punctuation) not in stopwords\n",
    "is_alpha = lambda token: token.lower().isalpha()\n",
    "normalizer = lambda token, normalizing = True: token.lower().strip(punctuation) if normalizing else token"
   ]
  },
  {
   "cell_type": "code",
   "execution_count": 536,
   "metadata": {},
   "outputs": [
    {
     "data": {
      "text/plain": [
       "'telemundo estrena edicion especial reina sur actriz mexicana kate castillo protagoniza serie regresara pantalla martes abril escenas nunca vistas mexicana reina unidos paises casa villa massa marittima toscana italia telemundo sur cadena sur regreso edicion regreso boda imagenes escenas serie pantalla centro emocion oportunidad drama vez accion proteccion programa manos narcotraficante historia vida vida fotos farandula posible amor poder lucha anonimato vida trono giro embargo frente kate castillo television telemundo anuncio regreso reina sur edicion especial incluira imagenes escenas nunca vistas actriz mexicana kate castillo protagoniza serie regresara pantalla martes abril centro televidentes perdieron drama lleno accion primera vez oportunidad vivir emocion mientras mendoza reclama poder lucha amor grande vida expreso cadena mediante comunicado prensa filmado ocho paises regreso reina sur retoma historia poderosa narcotraficante teresa mendoza ocho anos despues desapareciera manos programa federal proteccion testigos unidos tras hundir candidato presidencial mexicano epifanio vargas ahora lleva vida total anonimato italia maria dantes mientras cria hija sofia villa toscana massa marittima embargo vida dara giro inesperado hacer posible recuperar trono reina sur castillo frente renombrado elenco internacional incluye raoul bova humberto zurita paola nunez antonio gil patricia reyes spindola mark tacher kika edgar flavio medina eduardo santamarina eric roberts asi miembros elenco original'"
      ]
     },
     "execution_count": 536,
     "metadata": {},
     "output_type": "execute_result"
    }
   ],
   "source": [
    "def cleaner(text, language = 'english', tokenizing = True, normalizing = True, removing_accents = True, stopping_words = True, removing_alpha = True, stemming = False):\n",
    "    tokens = word_tokenize(remove_spaces(text), language = language)\n",
    "    if stopping_words and removing_alpha: \n",
    "        tokens = [remove_accents(normalizer(token,normalizing)) if removing_accents else normalizer(token,normalizing) for token in tokens if is_stopwords(token) and is_alpha(token)]\n",
    "    elif stopping_words: \n",
    "        tokens = [remove_accents(normalizer(token,normalizing)) if removing_accents else normalizer(token,normalizing) for token in tokens if is_stopwords(token)]\n",
    "    elif removing_alpha: \n",
    "        tokens = [remove_accents(normalizer(token,normalizing)) if removing_accents else normalizer(token,normalizing) for token in tokens if is_alpha(token)]\n",
    "    else:\n",
    "        tokens = [remove_accents(normalizer(token,normalizing)) if removing_accents else normalizer(token,normalizing) for token in tokens]\n",
    "    if stemming:\n",
    "        tokens = [stemmer.stem(token) for token in tokens]\n",
    "    return tokens if tokenizing else ' '.join(tokens) \n",
    "\n",
    "cleaner(text, language, tokenizing = False, normalizing = True, removing_accents = True, \n",
    "           stopping_words = True, removing_alpha = True, stemming = False)"
   ]
  },
  {
   "cell_type": "markdown",
   "metadata": {},
   "source": [
    "### split by sentences and cleaning"
   ]
  },
  {
   "cell_type": "code",
   "execution_count": 540,
   "metadata": {},
   "outputs": [
    {
     "data": {
      "text/plain": [
       "['telemundo estrena edicion especial reina sur',\n",
       " 'actriz mexicana kate castillo protagoniza serie regresara pantalla martes abril escenas nunca vistas mexicana reina unidos paises casa villa massa marittima toscana italia telemundo sur cadena sur regreso edicion regreso boda imagenes escenas serie pantalla centro emocion oportunidad drama vez accion proteccion programa manos narcotraficante historia vida vida fotos farandula posible amor poder lucha anonimato vida trono giro embargo frente kate castillo television',\n",
       " 'telemundo anuncio regreso reina sur edicion especial incluira imagenes escenas nunca vistas',\n",
       " 'actriz mexicana kate castillo protagoniza serie regresara pantalla martes abril',\n",
       " 'centro',\n",
       " 'televidentes perdieron drama lleno accion primera vez oportunidad vivir emocion mientras mendoza reclama poder lucha amor grande vida expreso cadena mediante comunicado prensa',\n",
       " 'filmado ocho paises regreso reina sur retoma historia poderosa narcotraficante teresa mendoza ocho anos despues desapareciera manos programa federal proteccion testigos unidos tras hundir candidato presidencial mexicano epifanio vargas',\n",
       " 'ahora lleva vida total anonimato italia maria dantes mientras cria hija sofia villa toscana massa marittima',\n",
       " 'embargo vida dara giro inesperado hacer posible recuperar trono reina sur',\n",
       " 'castillo frente renombrado elenco internacional incluye raoul bova humberto zurita paola nunez antonio gil patricia reyes spindola mark tacher kika edgar flavio medina eduardo santamarina eric roberts asi miembros elenco original']"
      ]
     },
     "execution_count": 540,
     "metadata": {},
     "output_type": "execute_result"
    }
   ],
   "source": [
    "from sentence_splitter import split_text_into_sentences\n",
    "def cleaner_sentences(text, lang, tokenizing = True, normalizing = True, removing_accents = True, stopping_words = True, removing_alpha = True, stemming = False):\n",
    "    sentences = split_text_into_sentences(text=remove_spaces(text),language=lang)\n",
    "    language = dlang[lang]\n",
    "    return [cleaner(isentence, language, tokenizing, normalizing, removing_accents, stopping_words, removing_alpha, stemming) for isentence in sentences]\n",
    "\n",
    "cleaner_sentences(text, lang, tokenizing = False, normalizing = True,removing_accents = True, \n",
    "                  stopping_words = True, removing_alpha = True, stemming = False)"
   ]
  },
  {
   "cell_type": "markdown",
   "metadata": {},
   "source": [
    "### collecting headers and cleaning"
   ]
  },
  {
   "cell_type": "code",
   "execution_count": 541,
   "metadata": {},
   "outputs": [
    {
     "data": {
      "text/plain": [
       "{'h1': '', 'h2': '', 'h3': '', 'h4': ''}"
      ]
     },
     "execution_count": 541,
     "metadata": {},
     "output_type": "execute_result"
    }
   ],
   "source": [
    "def get_headers(article, target_headers, language, tokenizing = True, normalizing = True, removing_accents = True, stopping_words = True, removing_alpha = True, stemming = False):\n",
    "    dheaders = dict()\n",
    "    for ih in target_headers:\n",
    "        loh = article.top_node.findall(ih)\n",
    "        if len(loh)>0 and not loh is None:\n",
    "            list_headers = [cleaner(ioh.text, language, tokenizing, normalizing, removing_accents, stopping_words, removing_alpha, stemming) for ioh in loh if not ioh.text is None]\n",
    "            list_headers = list(filter(lambda x: len(x)>0, list_headers))\n",
    "            dheaders[ih] = list_headers if tokenizing else ' '.join(list_headers)\n",
    "        else: dheaders[ih] = list() if tokenizing else ''\n",
    "            \n",
    "    return dheaders            \n",
    "            \n",
    "target_headers = ['h1','h2','h3','h4']\n",
    "get_headers(article, target_headers, language, tokenizing = False, stemming = False)"
   ]
  },
  {
   "cell_type": "code",
   "execution_count": null,
   "metadata": {},
   "outputs": [],
   "source": []
  },
  {
   "cell_type": "code",
   "execution_count": null,
   "metadata": {},
   "outputs": [],
   "source": []
  },
  {
   "cell_type": "code",
   "execution_count": null,
   "metadata": {},
   "outputs": [],
   "source": []
  },
  {
   "cell_type": "code",
   "execution_count": null,
   "metadata": {},
   "outputs": [],
   "source": []
  }
 ],
 "metadata": {
  "kernelspec": {
   "display_name": "crawling",
   "language": "python",
   "name": "crawling"
  },
  "language_info": {
   "codemirror_mode": {
    "name": "ipython",
    "version": 3
   },
   "file_extension": ".py",
   "mimetype": "text/x-python",
   "name": "python",
   "nbconvert_exporter": "python",
   "pygments_lexer": "ipython3",
   "version": "3.7.0"
  }
 },
 "nbformat": 4,
 "nbformat_minor": 2
}
