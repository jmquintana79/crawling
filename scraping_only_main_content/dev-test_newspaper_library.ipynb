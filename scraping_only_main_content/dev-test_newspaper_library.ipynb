{
 "cells": [
  {
   "cell_type": "markdown",
   "metadata": {},
   "source": [
    "https://github.com/codelucas/newspaper"
   ]
  },
  {
   "cell_type": "code",
   "execution_count": 86,
   "metadata": {},
   "outputs": [
    {
     "name": "stdout",
     "output_type": "stream",
     "text": [
      "\n",
      "Your available languages are:\n",
      "\n",
      "input code\t\tfull name\n",
      "  fa\t\t\t  Persian\n",
      "  ko\t\t\t  Korean\n",
      "  pt\t\t\t  Portuguese\n",
      "  bg\t\t\t  Bulgarian\n",
      "  mk\t\t\t  Macedonian\n",
      "  sr\t\t\t  Serbian\n",
      "  hu\t\t\t  Hungarian\n",
      "  sl\t\t\t  Slovenian\n",
      "  it\t\t\t  Italian\n",
      "  da\t\t\t  Danish\n",
      "  ro\t\t\t  Romanian\n",
      "  id\t\t\t  Indonesian\n",
      "  en\t\t\t  English\n",
      "  pl\t\t\t  Polish\n",
      "  sv\t\t\t  Swedish\n",
      "  tr\t\t\t  Turkish\n",
      "  sw\t\t\t  Swahili\n",
      "  de\t\t\t  German\n",
      "  et\t\t\t  Estonian\n",
      "  hr\t\t\t  Croatian\n",
      "  be\t\t\t  Belarusian\n",
      "  nl\t\t\t  Dutch\n",
      "  ja\t\t\t  Japanese\n",
      "  zh\t\t\t  Chinese\n",
      "  ar\t\t\t  Arabic\n",
      "  fi\t\t\t  Finnish\n",
      "  vi\t\t\t  Vietnamese\n",
      "  hi\t\t\t  Hindi\n",
      "  he\t\t\t  Hebrew\n",
      "  nb\t\t\t  Norwegian (Bokmål)\n",
      "  el\t\t\t  Greek\n",
      "  es\t\t\t  Spanish\n",
      "  uk\t\t\t  Ukrainian\n",
      "  fr\t\t\t  French\n",
      "  no\t\t\t  Norwegian\n",
      "  ru\t\t\t  Russian\n",
      "\n"
     ]
    }
   ],
   "source": [
    "from newspaper import languages\n",
    "languages()"
   ]
  },
  {
   "cell_type": "code",
   "execution_count": 109,
   "metadata": {},
   "outputs": [
    {
     "name": "stdout",
     "output_type": "stream",
     "text": [
      "CPU times: user 136 ms, sys: 1 ms, total: 137 ms\n",
      "Wall time: 2.12 s\n"
     ]
    }
   ],
   "source": [
    "%%time\n",
    "from newspaper import Article\n",
    "url = 'https://www.lanasa.net/universo/telescopios-espaciales/un-exoplaneta-desaparece-en-las-ultimas-observaciones-del-hubble'\n",
    "article = Article(url)\n",
    "#article = Article(url, language = 'es')\n",
    "article.download()\n",
    "article.parse()"
   ]
  },
  {
   "cell_type": "code",
   "execution_count": 110,
   "metadata": {},
   "outputs": [
    {
     "data": {
      "text/plain": [
       "'Concepto artístico de la colisión de dos cuerpos helados y polvorientos de 200 kilómetros de ancho que orbitan alrededor de la brillante estrella Fomalhaut, ubicada a 25 años luz de distancia. Créditos: ESA, NASA y M. Kornmesser\\n\\nAhora lo ves, ahora no lo ves.\\n\\nLo que los astrónomos pensaron que era un planeta más allá de nuestro sistema solar ahora aparentemente ha desaparecido de la vista. Aunque esto sucede en la ciencia ficción, como la explosión del planeta Krypton de Superman, los astrónomos están buscando una explicación plausible.\\n\\nUna interpretación es que, en lugar de ser un objeto planetario de tamaño completo, que fue fotografiado por primera vez en 2004, podría ser una gran nube de polvo en expansión producida por una colisión entre dos grandes cuerpos que orbitan alrededor de la brillante estrella cercana Fomalhaut. Las posibles observaciones de seguimiento podrían confirmar esta conclusión extraordinaria.\\n\\n\"Estas colisiones son extremadamente raras, por lo que es un gran problema que realmente podamos ver una\", dijo András Gáspár, de la Universidad de Arizona, Tucson. \"Creemos que estábamos en el lugar correcto en el momento adecuado para haber presenciado un evento tan poco probable con el Telescopio Espacial Hubble de la NASA\".\\n\\n\"El sistema Fomalhaut es el laboratorio de pruebas definitivo para todas nuestras ideas sobre cómo evolucionan los exoplanetas y los sistemas estelares\", agregó George Rieke, del Observatorio Steward de la Universidad de Arizona. \"Tenemos evidencia de tales colisiones en otros sistemas, pero nada de esta magnitud se ha observado en nuestro sistema solar. Este es un modelo de cómo los planetas se destruyen entre sí\".\\n\\nEl objeto, llamado Fomalhaut b, se anunció por primera vez en 2008, en base a datos tomados en 2004 y 2006. Fue claramente visible durante varios años de observaciones del Hubble, que revelaron que era un punto en movimiento. Hasta entonces, la evidencia de los exoplanetas se había inferido principalmente a través de métodos de detección indirecta, como sutiles oscilaciones estelares de ida y vuelta y sombras de los planetas que pasaban frente a sus estrellas.\\n\\nEste diagrama simula lo que los astrónomos, al estudiar las observaciones del telescopio espacial Hubble, tomadas durante varios años, consideran la evidencia de la primera detección de las secuelas de una colisión planetaria titánica en otro sistema estelar. La imagen del Hubble teñida de color a la izquierda es de un vasto anillo de escombros helados que rodea la estrella Fomalhaut, ubicada a 25 años luz de distancia. La estrella es tan brillante que se usa un disco de ocultación negro para bloquear su resplandor y poder fotografiar el anillo de polvo. En 2008, los astrónomos vieron lo que pensaban que era la primera imagen directa de un planeta en órbita lejos de la estrella. Sin embargo, en 2014, el planeta candidato se desvaneció por debajo de la detección del Hubble. La mejor interpretación es que el objeto nunca fue un planeta completamente formado, sino una nube de polvo en expansión debido una colisión entre dos cuerpos menores, cada uno de unos 125 kilómetros de ancho. El diagrama de la derecha se basa en una simulación de la nube en expansión y desvanecimiento. La nube, hecha de partículas de polvo muy finas, se estima actualmente en más de 200 millones de millas de ancho. Se estima que una colisión violenta como este sucederá alrededor de Fomalhaut una vez cada 200.000 años. Por lo tanto, el Hubble estaba buscando el lugar correcto en el momento adecuado para capturar este evento transitorio. Créditos: NASA, ESA, A. Gáspár y G. Rieke (Universidad de Arizona)\\n\\nSin embargo, a diferencia de otros exoplanetas con imágenes directas, los acertijos surgieron con Fomalhaut b desde el principio. El objeto era inusualmente brillante en luz visible, pero no tenía ninguna firma de calor infrarrojo detectable. Los astrónomos conjeturaron que el brillo adicional provenía de una gran caparazón o anillo de polvo que rodeaba el planeta que posiblemente podría haber estado relacionado con una colisión. La órbita de Fomalhaut b también parecía inusual, posiblemente muy excéntrica.\\n\\n\"Nuestro estudio, que analizó todos los datos de archivo disponibles del Hubble sobre Fomalhaut, reveló varias características que juntas pintan una imagen de que el objeto del tamaño de un planeta podría nunca haber existido en primer lugar\", dijo Gáspár.\\n\\nEl equipo enfatiza que el último clavo en el ataúd se produjo cuando su análisis de datos de las imágenes del Hubble tomadas en 2014 mostró que el objeto había desaparecido, para su incredulidad. Agregando al misterio, las imágenes anteriores mostraron que el objeto se desvanece continuamente con el tiempo, dicen. \"Claramente, Fomalhaut b estaba haciendo cosas que un planeta de buena fe no debería estar haciendo\", dijo Gáspár.\\n\\nLa interpretación es que Fomalhaut b se está expandiendo lentamente desde el violento choque que lanzó una nube de polvo al espacio. Teniendo en cuenta todos los datos disponibles, Gáspár y Rieke piensan que la colisión ocurrió no mucho antes de las primeras observaciones tomadas en 2004. En este momento, la nube de escombros, que consiste en partículas de polvo de alrededor de 1 micrón (1/50 del diámetro de un cabello humano), está por debajo del límite de detección del Hubble. Se estima que la nube de polvo se ha expandido a un tamaño mayor que la órbita de la Tierra alrededor de nuestro Sol.\\n\\nIgualmente confuso es que el equipo cree que el objeto está más probable en un camino de escape, en lugar de en una órbita elíptica, como se pensaba para los planetas. Esto se basa en que los investigadores agregaron observaciones posteriores a los gráficos de trayectoria de datos anteriores. \"Una nube de polvo masiva creada recientemente, que experimenta fuerzas considerables de radiación de la estrella central Fomalhaut, se colocaría en esa trayectoria\", dijo Gáspár. \"Nuestro modelo es naturalmente capaz de explicar todos los parámetros independientes observables del sistema: su tasa de expansión, su desvanecimiento y su trayectoria\".\\n\\nDebido a que Fomalhaut b está actualmente dentro de un vasto anillo de escombros helados que rodea la estrella, los cuerpos en colisión probablemente serían una mezcla de hielo y polvo, como los cometas que existen en el cinturón de Kuiper en la periferia de nuestro sistema solar. Gáspár y Rieke estiman que cada uno de estos cuerpos parecidos a los cometas mide aproximadamente 200 kilómetros de ancho (aproximadamente la mitad del tamaño del asteroide Vesta).\\n\\nSegún los autores, su modelo explica todas las características observadas de Fomalhaut b. El sofisticado modelado dinámico del polvo realizado en un grupo de ordenadores en la Universidad de Arizona muestra que dicho modelo es capaz de ajustarse cuantitativamente a todas las observaciones. Según los cálculos del autor, el sistema Fomalhaut, ubicado a unos 25 años luz de la Tierra, puede experimentar uno de estos eventos solo cada 200.000 años.\\n\\nGáspár y Rieke, junto con otros miembros de un equipo extendido, también observarán el sistema Fomalhaut con el próximo telescopio espacial James Webb de la NASA en su primer año de operaciones científicas. El equipo captará imágenes directamente de las regiones cálidas internas del sistema, resolviendo espacialmente por primera vez el escurridizo componente del cinturón de asteroides de un sistema planetario extrasolar. El equipo también buscará planetas de buena fe en órbita alrededor de Fomalhaut que puedan estar esculpiendo gravitacionalmente el disco externo. También analizarán la composición química del disco.'"
      ]
     },
     "execution_count": 110,
     "metadata": {},
     "output_type": "execute_result"
    }
   ],
   "source": [
    "article.text"
   ]
  },
  {
   "cell_type": "code",
   "execution_count": 111,
   "metadata": {},
   "outputs": [
    {
     "name": "stdout",
     "output_type": "stream",
     "text": [
      "['polvo', 'últimas', 'hubble', 'planeta', 'colisión', 'estrella', 'objeto', 'fomalhaut', 'sistema', 'exoplaneta', 'desaparece', 'b', 'observaciones', 'español', 'nasa', 'nube']\n",
      "('es', 'Un Exoplaneta Desaparece en las Últimas Observaciones del Hubble :: NASA EN ESPAÑOL', [], None)\n"
     ]
    },
    {
     "data": {
      "text/plain": [
       "'El objeto, llamado Fomalhaut b, se anunció por primera vez en 2008, en base a datos tomados en 2004 y 2006.\\nCréditos: NASA, ESA, A. Gáspár y G. Rieke (Universidad de Arizona)Sin embargo, a diferencia de otros exoplanetas con imágenes directas, los acertijos surgieron con Fomalhaut b desde el principio.\\n\"Claramente, Fomalhaut b estaba haciendo cosas que un planeta de buena fe no debería estar haciendo\", dijo Gáspár.\\nSegún los cálculos del autor, el sistema Fomalhaut, ubicado a unos 25 años luz de la Tierra, puede experimentar uno de estos eventos solo cada 200.000 años.\\nGáspár y Rieke, junto con otros miembros de un equipo extendido, también observarán el sistema Fomalhaut con el próximo telescopio espacial James Webb de la NASA en su primer año de operaciones científicas.'"
      ]
     },
     "execution_count": 111,
     "metadata": {},
     "output_type": "execute_result"
    }
   ],
   "source": [
    "article.nlp()\n",
    "print(article.keywords)\n",
    "print((article.meta_lang, article.title, article.authors, article.publish_date))\n",
    "article.summary"
   ]
  },
  {
   "cell_type": "code",
   "execution_count": null,
   "metadata": {},
   "outputs": [],
   "source": []
  },
  {
   "cell_type": "code",
   "execution_count": 108,
   "metadata": {},
   "outputs": [
    {
     "name": "stdout",
     "output_type": "stream",
     "text": [
      "['Irrfan Khan', 'Remdesivir', 'Boris Johnson', 'GOOG', 'AMD stock', 'Asteroid', 'Devin Booker', 'Ivanka Trump', 'Modern Warfare update', 'Marty Smith', 'Oxford vaccine', 'Radar', 'Joshrichards', 'Gigi Hadid', 'Minnie Little Women: Atlanta', 'Tara Reade', 'Justin Amash', 'Google stock', 'Mike Pence', 'PUA unemployment California']\n",
      "['http://www.huffingtonpost.com', 'http://cnn.com', 'http://www.time.com', 'http://www.ted.com', 'http://pandodaily.com', 'http://www.cnbc.com', 'http://www.mlb.com', 'http://www.pcmag.com', 'http://www.foxnews.com', 'http://theatlantic.com', 'http://www.bbc.co.uk', 'http://www.vice.com', 'http://www.elle.com', 'http://www.vh1.com', 'http://espnf1.com', 'http://espn.com', 'http://www.npr.org', 'http://www.sfgate.com', 'http://www.glamour.com', 'http://www.whosdatedwho.com', 'http://kotaku.com', 'http://thebostonchannel.com', 'http://www.suntimes.com', 'http://www.businessinsider.com', 'http://www.rivals.com', 'http://thebusinessjournal.com', 'http://www.newrepublic.com', 'http://allthingsd.com', 'http://www.topgear.com', 'http://thecitizen.com', 'http://www.ign.com', 'http://www.sci-news.com', 'http://www.morningstar.com', 'http://www.variety.com', 'http://thebottomline.as.ucsb.edu', 'http://www.gamefaqs.com', 'http://blog.searchenginewatch.com', 'http://thedailyfairfield.com', 'http://www.solarnovus.com', 'http://medicalxpress.com', 'http://www.news.com.au', 'http://www.health.com', 'http://www.computerandvideogames.com', 'http://wsj.com', 'http://www.allure.com', 'http://www.theinsider.com', 'http://cnet.com', 'http://venturebeat.com', 'http://www.topspeed.com', 'http://thedailyworld.com', 'http://games.com', 'http://www.religionnews.com', 'http://blogs.berkeley.edu', 'http://www.sbnation.com', 'http://www.polygon.com', 'http://nytimes.com', 'http://www.thefrisky.com', 'http://telegram.com', 'http://yahoo.com', 'http://www.nbcnews.com', 'http://thedailypage.com', 'http://www.popsci.com', 'http://www.pbs.org', 'http://www.nasa.gov', 'http://www.guardiannews.com', 'http://www.weather.com', 'http://www.gq.com', 'http://www.etonline.com', 'http://telegraph.co.uk', 'http://www.fastcompany.com', 'http://www.infoworld.com', 'http://www.wired.com', 'http://www.pcgamer.com', 'http://sportingnews.com', 'http://theatlanticwire.com', 'http://thecarconnection.com', 'http://www.sun-sentinel.com', 'http://autoblog.com', 'http://www.environmentalleader.com', 'http://thecrimson.com', 'http://thecypresstimes.com', 'http://www.dailyfinance.com', 'http://www.politico.com', 'http://newsroom.fb.com', 'http://news.ycombinator.com', 'http://lifehacker.com', 'http://www.bet.com', 'http://independent.co.uk', 'http://www.mlssoccer.com', 'http://www.bodybuilding.com', 'http://www.cosmopolitan.com', 'http://www.apple.com', 'http://www.autonews.com', 'http://www.eonline.com', 'http://www.vanityfair.com', 'http://techdigest.tv', 'http://www.maximumpc.com', 'http://www.techradar.com', 'http://thedailyjournal.com', 'http://www.mlive.com', 'http://techworld.com.au', 'http://www.techmeme.com', 'http://thedailynewsegypt.com', 'http://thedailygrind.com.au', 'http://techcrunch.com', 'http://tehrantimes.com', 'http://www.hollywoodreporter.com', 'http://thedailysound.com', 'http://www.stltoday.com', 'http://deadspin.com', 'http://www.digitaltrends.com', 'http://seattletimes.com', 'http://seattlepi.com', 'http://www.cleveland.com', 'http://heritage.org', 'http://www.today.com', 'http://www.politifact.com', 'http://zdnet.com', 'http://www.nationalenquirer.com', 'http://egotastic.com', 'http://blogs.creativeloafing.com', 'http://townhall.com', 'http://www.eweek.com', 'http://www.vogue.co.uk', 'http://www.teenvogue.com', 'http://www.nypost.com', 'http://www.reuters.com', 'http://www.scientificamerican.com', 'http://www.miamiherald.com', 'http://www.nydailynews.com', 'http://www.newscientist.com', 'http://bigstory.ap.org', 'http://www.ebony.com', 'http://thedailystar.com', 'http://www.technologyreview.com', 'http://www.theverge.com', 'http://www.nba.com', 'http://www.cbssports.com', 'http://betabeat.com', 'http://www.tmz.com', 'http://tcnewsnet.com', 'http://www.latimes.com', 'http://www.c-span.org', 'http://www.style.com', 'http://www.peoplestylewatch.com', 'http://theboot.com', 'http://www.foxbusiness.com', 'http://www.pcworld.com', 'http://washingtontimes.com', 'http://thedailyreview.com', 'http://www.nfl.com', 'http://www.space.com', 'http://washingtontechnology.com', 'http://www.buzzfeed.com', 'http://inquirer.net', 'http://www.maxim.com', 'http://abcnews.com', 'http://www.extremetech.com', 'http://thedailytimes.com', 'http://mashable.com', 'http://washingtonexaminer.com', 'http://www.bhg.com', 'http://tech.mit.edu', 'http://hotair.com', 'http://www.1up.com', 'http://www.cbc.ca', 'http://gawker.com', 'http://celebuzz.com', 'http://sciencemag.org', 'http://www.rollingstone.com', 'http://slashdot.org', 'http://www.slate.com', 'http://bleacherreport.com', 'http://www.nascar.com', 'http://www.forbes.com', 'http://washingtonpost.com', 'http://nymag.com', 'http://www.microsoft.com', 'http://hbr.org', 'http://www.ft.com', 'http://www.dailymail.co.uk', 'http://www.theautochannel.com', 'http://g4tv.com', 'http://www.aljazeera.com', 'http://politicker.com', 'http://nbcsports.nbc.com', 'http://www.gamespot.com', 'http://news.sky.com', 'http://www.joystiq.com', 'http://www.escapistmagazine.com', 'http://www.thestreet.com', 'http://www.ew.com', 'http://www.nj.com', 'http://msn.com', 'http://thedailyreporter.com', 'http://www.economist.com', 'http://phys.org', 'http://www.glam.com', 'http://perezhilton.com', 'http://www.usmagazine.com', 'http://aol.com', 'http://www.cbsnews.com', 'http://www.tennis.com', 'http://washingtonian.com', 'http://www.sciencedaily.com', 'http://foxsports.com', 'http://www.popularmechanics.com', 'http://www.macworld.com', 'http://thinkprogress.org', 'http://www.mtv.com', 'http://discovery.com', 'http://www.people.com', 'http://thedailybeast.com', 'http://www.hollywood.com', 'http://medium.com', 'http://www.engadget.com', 'http://www.usnews.com', 'http://www.billboard.com', 'http://nationalgeographic.com', 'http://www.purseblog.com', 'http://www.giantbomb.com', 'http://www.automobilemag.com', 'http://thechronicle.com.au', 'http://tbnweekly.com', 'http://techreport.com', 'http://thedailyfix.com', 'http://www.animenewsnetwork.com', 'http://www.realclearpolitics.com', 'http://usatoday.com', 'http://www.techspot.com', 'http://discovermagazine.com', 'http://arstechnica.com', 'http://foreignpolicy.com', 'http://www.redstate.com', 'http://www.marketwatch.com', 'http://www.eurogamer.net', 'http://cbn.com', 'http://www.parade.com', 'http://www.bbcamerica.com', 'http://washingtonindependent.com', 'http://drudgereport.com', 'http://beta.na.leagueoflegends.com']\n"
     ]
    }
   ],
   "source": [
    "from newspaper import hot, popular_urls\n",
    "print(hot())\n",
    "print(popular_urls())"
   ]
  },
  {
   "cell_type": "code",
   "execution_count": null,
   "metadata": {},
   "outputs": [],
   "source": []
  }
 ],
 "metadata": {
  "kernelspec": {
   "display_name": "crawling",
   "language": "python",
   "name": "crawling"
  },
  "language_info": {
   "codemirror_mode": {
    "name": "ipython",
    "version": 3
   },
   "file_extension": ".py",
   "mimetype": "text/x-python",
   "name": "python",
   "nbconvert_exporter": "python",
   "pygments_lexer": "ipython3",
   "version": "3.7.0"
  }
 },
 "nbformat": 4,
 "nbformat_minor": 2
}
